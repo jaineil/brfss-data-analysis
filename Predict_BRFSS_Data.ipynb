{
  "nbformat": 4,
  "nbformat_minor": 0,
  "metadata": {
    "colab": {
      "name": "Predict_BRFSS_Data.ipynb",
      "provenance": []
    },
    "kernelspec": {
      "name": "python3",
      "display_name": "Python 3"
    },
    "language_info": {
      "name": "python"
    },
    "accelerator": "GPU"
  },
  "cells": [
    {
      "cell_type": "code",
      "metadata": {
        "id": "jMX3nZ8RM_zw"
      },
      "source": [
        "import pandas as pd\n",
        "import numpy as np\n",
        "import time\n",
        "from sklearn import tree\n",
        "from sklearn.model_selection import train_test_split\n",
        "from xgboost import XGBClassifier\n",
        "from matplotlib import pyplot\n",
        "import matplotlib.pyplot as plt\n",
        "import seaborn as sns\n",
        "import re\n",
        "from sklearn.model_selection import GridSearchCV\n",
        "from sklearn.metrics import classification_report\n",
        "from sklearn.ensemble import RandomForestClassifier\n",
        "from sklearn.metrics import confusion_matrix,plot_confusion_matrix,classification_report\n",
        "from sklearn.naive_bayes import GaussianNB"
      ],
      "execution_count": null,
      "outputs": []
    },
    {
      "cell_type": "code",
      "metadata": {
        "colab": {
          "base_uri": "https://localhost:8080/"
        },
        "id": "A3h97JpcOZfO",
        "outputId": "6d12202c-73fe-48ba-ec37-07bd9cf3c4e2"
      },
      "source": [
        "from google.colab import drive\n",
        "drive.mount('/content/drive/')"
      ],
      "execution_count": null,
      "outputs": [
        {
          "output_type": "stream",
          "name": "stdout",
          "text": [
            "Mounted at /content/drive/\n"
          ]
        }
      ]
    },
    {
      "cell_type": "markdown",
      "metadata": {
        "id": "ufoYt3gLGlMb"
      },
      "source": [
        "### Data Visualizations"
      ]
    },
    {
      "cell_type": "code",
      "metadata": {
        "id": "bJKdyy8-VO_C"
      },
      "source": [
        "import matplotlib.pyplot as plt"
      ],
      "execution_count": null,
      "outputs": []
    },
    {
      "cell_type": "code",
      "metadata": {
        "id": "n7B1iOauVTgb"
      },
      "source": [
        "data = pd.read_csv('/content/drive/MyDrive/Colab Notebooks/data/Train_Lung_Issues.csv')"
      ],
      "execution_count": null,
      "outputs": []
    },
    {
      "cell_type": "code",
      "metadata": {
        "colab": {
          "base_uri": "https://localhost:8080/",
          "height": 318
        },
        "id": "lOHXhvfDFIg1",
        "outputId": "a98bdc12-98e2-4c46-b091-a75d2435a6b1"
      },
      "source": [
        "plt.figure(figsize=(15,20))\n",
        "df1 = data.groupby(['SMOKE100','lung_issues']).size()\n",
        "data_to_plot1 = df1.unstack()\n",
        "data_to_plot1.drop([-1.0,7.0,9.0],axis = 0, inplace=True)\n",
        "data_to_plot_transpose1 = data_to_plot1.transpose()\n",
        "data_to_plot_transpose_percent1 = data_to_plot_transpose1.div(data_to_plot_transpose1.sum())\n",
        "data_to_plot_percent1 = data_to_plot_transpose_percent1.transpose()\n",
        "\n",
        "data_to_plot_percent1.plot(kind='bar',stacked=True).legend([\"No Lung Issues\", \"Lung Issues\"], loc='upper left', bbox_to_anchor=(1,1), ncol=1)\n",
        "positions = (0, 1)\n",
        "labels = (\"Yes\", \"No\")\n",
        "plt.xticks(positions, labels)\n",
        "plt.xlabel('Smoking')\n",
        "plt.ylabel('Count %')\n",
        "plt.title(\"Lung Issues based on Smoking Habit\")\n",
        "\n",
        "plt.show()"
      ],
      "execution_count": null,
      "outputs": [
        {
          "output_type": "display_data",
          "data": {
            "text/plain": [
              "<Figure size 1080x1440 with 0 Axes>"
            ]
          },
          "metadata": {}
        },
        {
          "output_type": "display_data",
          "data": {
            "image/png": "[encoded data removed]",
            "text/plain": [
              "<Figure size 432x288 with 1 Axes>"
            ]
          },
          "metadata": {
            "needs_background": "light"
          }
        }
      ]
    },
    {
      "cell_type": "code",
      "metadata": {
        "colab": {
          "base_uri": "https://localhost:8080/",
          "height": 318
        },
        "id": "smOCAKzlFoym",
        "outputId": "97dfdfc8-1297-465a-fb01-f0cd5000e18b"
      },
      "source": [
        "plt.figure(figsize=(15,20))\n",
        "df2 = data.groupby(['PNEUVAC3','lung_issues']).size()\n",
        "data_to_plot2 = df2.unstack()\n",
        "data_to_plot2.drop([-1.0,7.0,9.0],axis = 0, inplace=True)\n",
        "data_to_plot_transpose2 = data_to_plot2.transpose()\n",
        "data_to_plot_transpose_percent2 = data_to_plot_transpose2.div(data_to_plot_transpose2.sum())\n",
        "data_to_plot_percent2 = data_to_plot_transpose_percent2.transpose()\n",
        "\n",
        "data_to_plot_percent2.plot(kind='bar',stacked=True).legend([\"No Lung Issues\", \"Lung Issues\"], loc='upper left', bbox_to_anchor=(1,1), ncol=1)\n",
        "positions = (0, 1)\n",
        "labels = (\"Yes\", \"No\")\n",
        "plt.xticks(positions, labels)\n",
        "plt.xlabel('Pneumonia Vaccine')\n",
        "plt.ylabel('Count %')\n",
        "plt.title(\"Pneumonia vaccine increase with lung issues\")\n",
        "\n",
        "plt.show()"
      ],
      "execution_count": null,
      "outputs": [
        {
          "output_type": "display_data",
          "data": {
            "text/plain": [
              "<Figure size 1080x1440 with 0 Axes>"
            ]
          },
          "metadata": {}
        },
        {
          "output_type": "display_data",
          "data": {
            "image/png": "[encoded data removed]",
            "text/plain": [
              "<Figure size 432x288 with 1 Axes>"
            ]
          },
          "metadata": {
            "needs_background": "light"
          }
        }
      ]
    },
    {
      "cell_type": "code",
      "metadata": {
        "colab": {
          "base_uri": "https://localhost:8080/",
          "height": 318
        },
        "id": "KpWTeDkWGFBJ",
        "outputId": "8d6d2a32-c4bc-46ff-d954-8c0804388a5a"
      },
      "source": [
        "plt.figure(figsize=(15,20))\n",
        "df3 = data.groupby(['QLACTLM2','lung_issues']).size()\n",
        "data_to_plot3 = df3.unstack()\n",
        "data_to_plot3.drop([-1.0,7.0,9.0],axis = 0, inplace=True)\n",
        "data_to_plot_transpose3 = data_to_plot3.transpose()\n",
        "data_to_plot_transpose_percent3 = data_to_plot_transpose3.div(data_to_plot_transpose3.sum())\n",
        "data_to_plot_percent3 = data_to_plot_transpose_percent3.transpose()\n",
        "\n",
        "data_to_plot_percent3.plot(kind='bar',stacked=True).legend([\"No Lung Issues\", \"Lung Issues\"], loc='upper left', bbox_to_anchor=(1,1), ncol=1)\n",
        "positions = (0, 1)\n",
        "labels = (\"Yes\", \"No\")\n",
        "plt.xticks(positions, labels)\n",
        "plt.xlabel('Limited in physical activity')\n",
        "plt.ylabel('Count %')\n",
        "plt.title('Physical limitations with lung issues')\n",
        "\n",
        "plt.show()"
      ],
      "execution_count": null,
      "outputs": [
        {
          "output_type": "display_data",
          "data": {
            "text/plain": [
              "<Figure size 1080x1440 with 0 Axes>"
            ]
          },
          "metadata": {}
        },
        {
          "output_type": "display_data",
          "data": {
            "image/png": "[encoded data removed]",
            "text/plain": [
              "<Figure size 432x288 with 1 Axes>"
            ]
          },
          "metadata": {
            "needs_background": "light"
          }
        }
      ]
    },
    {
      "cell_type": "markdown",
      "metadata": {
        "id": "W28tU4stONkj"
      },
      "source": [
        "### Model Comparison & Prediction"
      ]
    },
    {
      "cell_type": "code",
      "metadata": {
        "id": "NHY76JwDOIne"
      },
      "source": [
        "# Generate Test and training data set\n",
        "\n",
        "test_set = pd.read_csv('/content/drive/MyDrive/Colab Notebooks/data/Test_Lung_Issues.csv')\n",
        "train_set = pd.read_csv('/content/drive/MyDrive/Colab Notebooks/data/Train_Lung_Issues.csv')"
      ],
      "execution_count": null,
      "outputs": []
    },
    {
      "cell_type": "code",
      "metadata": {
        "id": "IJLP1xIWRw9P"
      },
      "source": [
        "test_set.shape"
      ],
      "execution_count": null,
      "outputs": []
    },
    {
      "cell_type": "code",
      "metadata": {
        "id": "nkYQ1iZaSABw"
      },
      "source": [
        "train_set.shape"
      ],
      "execution_count": null,
      "outputs": []
    },
    {
      "cell_type": "code",
      "metadata": {
        "id": "pXMK1Ec7S1C4"
      },
      "source": [
        "train_target = train_set[['lung_issues']]\n",
        "test_target = test_set[['lung_issues']]"
      ],
      "execution_count": null,
      "outputs": []
    },
    {
      "cell_type": "code",
      "metadata": {
        "id": "X5dyUYdnTEd3"
      },
      "source": [
        "train_set.drop(columns=['lung_issues'],inplace=True)\n",
        "test_set.drop(columns=['lung_issues'],inplace=True)"
      ],
      "execution_count": null,
      "outputs": []
    },
    {
      "cell_type": "code",
      "metadata": {
        "id": "llA567S-TNEI"
      },
      "source": [
        "x_train, x_test, y_train, y_test = train_test_split(train_set, train_target, shuffle = True, test_size=0.2, random_state=42)"
      ],
      "execution_count": null,
      "outputs": []
    },
    {
      "cell_type": "code",
      "metadata": {
        "id": "l3pf6-bUwCdh"
      },
      "source": [
        "def grid_search(model, tree_parameters, score):\n",
        "    print(\"# Tuning hyper-parameters for %s\" % score)\n",
        "    print()\n",
        "\n",
        "    clf = GridSearchCV(model, tree_parameters, scoring='%s_macro' % score)\n",
        "    clf.fit(x_train, y_train)\n",
        "\n",
        "    print(\"Best parameters found on development set: \")\n",
        "    print()\n",
        "    print(clf.best_params_)\n",
        "    print()\n",
        "    print(\"Grid scores on development set:\")\n",
        "    print()\n",
        "    means = clf.cv_results_['mean_test_score']\n",
        "    stds = clf.cv_results_['std_test_score']\n",
        "    for mean, std, params in zip(means, stds, clf.cv_results_['params']):\n",
        "        print(\"%0.3f (+/-%0.03f) for %r\"\n",
        "              % (mean, std * 2, params))\n",
        "    print()\n",
        "\n",
        "    print(\"Detailed classification report:\")\n",
        "    print()\n",
        "    y_true, y_pred = y_test, clf.predict(x_test)\n",
        "    print(classification_report(y_true, y_pred))\n",
        "    print()"
      ],
      "execution_count": null,
      "outputs": []
    },
    {
      "cell_type": "markdown",
      "metadata": {
        "id": "sK7ETwfXwi1L"
      },
      "source": [
        "#### Logistic Regression"
      ]
    },
    {
      "cell_type": "code",
      "metadata": {
        "id": "Qvfqu1EpwiQL"
      },
      "source": [
        "from sklearn.linear_model import LogisticRegression\n",
        "model_lr = LogisticRegression()\n",
        "model_lr.fit(x_train, y_train)"
      ],
      "execution_count": null,
      "outputs": []
    },
    {
      "cell_type": "code",
      "metadata": {
        "id": "Ddwp6mfTxf5u"
      },
      "source": [
        "y_pred = model_lr.predict(x_test)"
      ],
      "execution_count": null,
      "outputs": []
    },
    {
      "cell_type": "code",
      "metadata": {
        "id": "YQbyty_Xxjnb"
      },
      "source": [
        "print(classification_report(y_test, y_pred))"
      ],
      "execution_count": null,
      "outputs": []
    },
    {
      "cell_type": "code",
      "metadata": {
        "id": "eNG84k8vihaG"
      },
      "source": [
        "print(model_lr.get_params())\n",
        "print(\"Accuracy on test data: {:.2f}\".format(model_lr.score(x_test, y_test)))\n",
        "print(\"Accuracy on training data: {:.2f}\".format(model_lr.score(x_train, y_train)))\n",
        "disp = plot_confusion_matrix(model_lr, train_set, train_target, display_labels=['Without Issues',\"With Issues\"],cmap=plt.cm.Blues)\n",
        "disp.ax_.set_title('Confusion Matrix for the overall dataset')\n",
        "plt.show()"
      ],
      "execution_count": null,
      "outputs": []
    },
    {
      "cell_type": "markdown",
      "metadata": {
        "id": "kFbFkI0BzgIg"
      },
      "source": [
        "#### Decision Tree"
      ]
    },
    {
      "cell_type": "code",
      "metadata": {
        "id": "dkwcZ1SQzWZa"
      },
      "source": [
        "model_dt = tree.DecisionTreeClassifier()\n",
        "tree_parameters = [{'splitter': ['best', 'random'],'max_depth': [15,10,20],'criterion': ['gini', 'entropy']}]\n",
        "scores = ['f1']"
      ],
      "execution_count": null,
      "outputs": []
    },
    {
      "cell_type": "code",
      "metadata": {
        "id": "JOmCuzKlzp-b"
      },
      "source": [
        "time_dict={}\n",
        "start_time = time.time()\n",
        "grid_search(model_dt, tree_parameters, scores[0])\n",
        "end_time = time.time()\n",
        "time_dict[f'DecisionTreeClassifier + gridSearchCV + {scores[0]}'] = end_time - start_time"
      ],
      "execution_count": null,
      "outputs": []
    },
    {
      "cell_type": "code",
      "metadata": {
        "id": "csF_8rto0SQQ"
      },
      "source": [
        "model_dt = tree.DecisionTreeClassifier(criterion='entropy', max_depth = 15, splitter = 'best')\n",
        "# X_train, X_test, y_train, y_test = train_test_split(training_set, training_target,shuffle = True, test_size=0.2, random_state=42)\n",
        "model_dt.fit(x_train, y_train)"
      ],
      "execution_count": null,
      "outputs": []
    },
    {
      "cell_type": "code",
      "metadata": {
        "id": "a870iYHp0xwk"
      },
      "source": [
        "print(model_dt.get_params())\n",
        "print(\"Accuracy on test data: {:.2f}\".format(model_dt.score(x_test, y_test)))\n",
        "print(\"Accuracy on training data: {:.2f}\".format(model_dt.score(x_train, y_train)))\n",
        "disp = plot_confusion_matrix(model_dt, train_set, train_target, display_labels=['Without Issues',\"With Issues\"],cmap=plt.cm.Blues)\n",
        "disp.ax_.set_title('Confusion Matrix for the overall dataset')\n",
        "plt.show()"
      ],
      "execution_count": null,
      "outputs": []
    },
    {
      "cell_type": "code",
      "metadata": {
        "id": "YthIUTEK7FKc"
      },
      "source": [
        "from sklearn.metrics import classification_report\n",
        "print(\"Detailed classification report:\")\n",
        "print()\n",
        "y_true, y_pred = y_test, model_dt.predict(x_test)\n",
        "print(classification_report(y_true, y_pred))\n",
        "print()"
      ],
      "execution_count": null,
      "outputs": []
    },
    {
      "cell_type": "markdown",
      "metadata": {
        "id": "cyP1N9b53MVS"
      },
      "source": [
        "#### Random Forest Algorithm"
      ]
    },
    {
      "cell_type": "code",
      "metadata": {
        "id": "GwLk0gJv1Biz"
      },
      "source": [
        "# Best parameters set found on development set: {'bootstrap': True, 'max_depth': 10, 'max_features': 18, 'n_estimators': 150}\n",
        "model_rf = RandomForestClassifier()\n",
        "tree_parameters = {'bootstrap': [True],'max_depth': [10,15,20],'n_estimators': [100,150]}\n",
        "scores = ['recall']"
      ],
      "execution_count": null,
      "outputs": []
    },
    {
      "cell_type": "code",
      "metadata": {
        "id": "gF9zswIl3jsU"
      },
      "source": [
        "time_dict={}\n",
        "start_time = time.time()\n",
        "grid_search(model_rf, tree_parameters, scores[0])\n",
        "end_time = time.time()\n",
        "time_dict[f'RandomForestClassifier + gridSearchCV + {scores[0]}'] = end_time - start_time"
      ],
      "execution_count": null,
      "outputs": []
    },
    {
      "cell_type": "code",
      "metadata": {
        "id": "V5C2Frc43tg5"
      },
      "source": [
        "model_rf = RandomForestClassifier(bootstrap= True,max_depth= 20, n_estimators= 100)\n",
        "model_rf.fit(x_train, y_train)"
      ],
      "execution_count": null,
      "outputs": []
    },
    {
      "cell_type": "code",
      "metadata": {
        "id": "d_SLU64W3ycN"
      },
      "source": [
        "print(model_rf.get_params())\n",
        "print(\"Accuracy on test data: {:.2f}\".format(model_rf.score(x_test, y_test)))\n",
        "print(\"Accuracy on training data: {:.2f}\".format(model_rf.score(x_train, y_train)))\n",
        "disp = plot_confusion_matrix(model_rf, train_set, train_target, display_labels=['Without Issues',\"With Issues\"],cmap=plt.cm.Blues)\n",
        "disp.ax_.set_title('Confusion Matrix for the overall dataset')\n",
        "plt.show()"
      ],
      "execution_count": null,
      "outputs": []
    },
    {
      "cell_type": "code",
      "metadata": {
        "id": "217Ez3St6DIC"
      },
      "source": [
        "from sklearn.metrics import classification_report\n",
        "print(\"Detailed classification report:\")\n",
        "print()\n",
        "y_true, y_pred = y_test, model_rf.predict(x_test)\n",
        "print(classification_report(y_true, y_pred))\n",
        "print()"
      ],
      "execution_count": null,
      "outputs": []
    },
    {
      "cell_type": "markdown",
      "metadata": {
        "id": "zQoUPNG78WGI"
      },
      "source": [
        "#### XGBoost"
      ]
    },
    {
      "cell_type": "code",
      "metadata": {
        "id": "P1kn8vNM8ahe"
      },
      "source": [
        "model_xgb = XGBClassifier()\n",
        "tree_parameters = {'learning_rate': [0.8, 1 , 0.5], 'max_depth': [5,6,10], 'n_estimators': [70,100]}\n",
        "scores = ['recall']"
      ],
      "execution_count": null,
      "outputs": []
    },
    {
      "cell_type": "code",
      "metadata": {
        "id": "T_o5CCzC8mvb"
      },
      "source": [
        "time_dict={}\n",
        "start_time = time.time()\n",
        "grid_search(model_xgb, tree_parameters, scores[0])\n",
        "end_time = time.time()\n",
        "time_dict[f'XGBoost + gridSearchCV + {scores[0]}'] = end_time - start_time"
      ],
      "execution_count": null,
      "outputs": []
    },
    {
      "cell_type": "code",
      "metadata": {
        "id": "6fGBgZ-OL6u1"
      },
      "source": [
        "model_xgb = XGBClassifier(learning_rate= 1,max_depth= 10, n_estimators= 100)\n",
        "model_xgb.fit(x_train,y_train)"
      ],
      "execution_count": null,
      "outputs": []
    },
    {
      "cell_type": "code",
      "metadata": {
        "id": "RKsdSzDAL_wz"
      },
      "source": [
        "from sklearn.metrics import classification_report\n",
        "print(\"Detailed classification report:\")\n",
        "print()\n",
        "y_true, y_pred = y_test, model_xgb.predict(x_test)\n",
        "print(classification_report(y_true, y_pred))\n",
        "print()"
      ],
      "execution_count": null,
      "outputs": []
    },
    {
      "cell_type": "code",
      "metadata": {
        "id": "tIsXoStVMyxg"
      },
      "source": [
        "print(model_xgb.get_params())\n",
        "print(\"Accuracy on test data: {:.2f}\".format(model_xgb.score(x_test, y_test)))\n",
        "print(\"Accuracy on training data: {:.2f}\".format(model_xgb.score(x_train, y_train)))\n",
        "disp = plot_confusion_matrix(model_xgb, train_set, train_target, display_labels=['Without Issues',\"With Issues\"],cmap=plt.cm.Blues)\n",
        "disp.ax_.set_title('Confusion Matrix for the overall dataset')\n",
        "plt.show()"
      ],
      "execution_count": null,
      "outputs": []
    },
    {
      "cell_type": "markdown",
      "metadata": {
        "id": "Iqxra4Of-bal"
      },
      "source": [
        "### Algorithm Comparison & Prediction"
      ]
    },
    {
      "cell_type": "code",
      "metadata": {
        "id": "ZS2xU4es-fwz"
      },
      "source": [
        "# Generate Test and training data set\n",
        "\n",
        "test_set = pd.read_csv('/content/drive/MyDrive/Colab Notebooks/data/Test_Lung_Issues.csv')\n",
        "train_set = pd.read_csv('/content/drive/MyDrive/Colab Notebooks/data/Train_Lung_Issues.csv')"
      ],
      "execution_count": null,
      "outputs": []
    },
    {
      "cell_type": "code",
      "metadata": {
        "id": "b2ek5xdFA16W"
      },
      "source": [
        "train_target = train_set[['lung_issues']]\n",
        "test_target = test_set[['lung_issues']]"
      ],
      "execution_count": null,
      "outputs": []
    },
    {
      "cell_type": "code",
      "metadata": {
        "id": "C8nUvNHqMD28"
      },
      "source": [
        "train_set.drop(columns=['lung_issues'],inplace=True)\n",
        "test_set.drop(columns=['lung_issues'],inplace=True)"
      ],
      "execution_count": null,
      "outputs": []
    },
    {
      "cell_type": "code",
      "metadata": {
        "id": "NXAFMIkeDSR6"
      },
      "source": [
        "X_train, X_test, y_train, y_test = train_test_split(train_set, train_target, shuffle=True, test_size=0.2, random_state=42)"
      ],
      "execution_count": null,
      "outputs": []
    },
    {
      "cell_type": "markdown",
      "metadata": {
        "id": "6Mpne8VvATZI"
      },
      "source": [
        "#### Logistic Regression"
      ]
    },
    {
      "cell_type": "code",
      "metadata": {
        "id": "-RNt4idq-icK"
      },
      "source": [
        "# Parameters for hyperparameter tuning using GridSearchCV - Check what parameters give the best results\n",
        "parameters_lr = {'max_iter':[100, 150, 200]}"
      ],
      "execution_count": null,
      "outputs": []
    },
    {
      "cell_type": "code",
      "metadata": {
        "id": "JEzUTGOpASYm"
      },
      "source": [
        "# Model training - Adjust Hyperparameters\n",
        "from sklearn.linear_model import LogisticRegression\n",
        "\n",
        "model_lr = LogisticRegression(class_weight='balanced')\n",
        "clf_lr = GridSearchCV(model_lr, parameters_lr, scoring='recall')\n",
        "clf_lr.fit(X_train, y_train)"
      ],
      "execution_count": null,
      "outputs": []
    },
    {
      "cell_type": "code",
      "metadata": {
        "id": "Y7-RlabfA9u0"
      },
      "source": [
        "clf_lr.best_estimator_"
      ],
      "execution_count": null,
      "outputs": []
    },
    {
      "cell_type": "code",
      "metadata": {
        "id": "CFZOwro8Bcca"
      },
      "source": [
        "# Prediction\n",
        "y_true, y_pred = y_test, clf_lr.predict(X_test)\n",
        "print(classification_report(y_true, y_pred))"
      ],
      "execution_count": null,
      "outputs": []
    },
    {
      "cell_type": "code",
      "metadata": {
        "id": "MDWjAW3jBfr8"
      },
      "source": [
        "# Confusion matrix \n",
        "print(\"Accuracy on test data: {:.2f}\".format(clf_lr.score(X_test, y_test)))\n",
        "print(\"Accuracy on training data: {:.2f}\".format(clf_lr.score(X_train, y_train)))\n",
        "matrix = plot_confusion_matrix(clf_lr, train_set, train_target, display_labels=['No Lung Issues',\"Lung Issues\"], cmap=plt.cm.Reds)\n",
        "matrix.ax_.set_title('Confusion Matrix')\n",
        "plt.show()"
      ],
      "execution_count": null,
      "outputs": []
    },
    {
      "cell_type": "code",
      "metadata": {
        "id": "4yEEf6eeBiGu"
      },
      "source": [
        ""
      ],
      "execution_count": null,
      "outputs": []
    },
    {
      "cell_type": "markdown",
      "metadata": {
        "id": "WC5Dha4ECEUI"
      },
      "source": [
        "#### Decision Tree"
      ]
    },
    {
      "cell_type": "code",
      "metadata": {
        "id": "TKQ0k0r0CI0z"
      },
      "source": [
        "parameters_dt = {'splitter':['best', 'random'], 'max_depth':[5, 10, 15, 20, 25], 'criterion':['gini', 'entropy']}"
      ],
      "execution_count": null,
      "outputs": []
    },
    {
      "cell_type": "code",
      "metadata": {
        "id": "Ps0h9fWDCPL4"
      },
      "source": [
        "# Model training - Adjust Hyperparameters\n",
        "\n",
        "model_dt = tree.DecisionTreeClassifier(class_weight='balanced')\n",
        "clf_dt = GridSearchCV(model_dt, parameters_dt, scoring='recall')\n",
        "clf_dt.fit(X_train, y_train)"
      ],
      "execution_count": null,
      "outputs": []
    },
    {
      "cell_type": "code",
      "metadata": {
        "id": "aaENsfpRCY0o"
      },
      "source": [
        "clf_dt.best_estimator_"
      ],
      "execution_count": null,
      "outputs": []
    },
    {
      "cell_type": "code",
      "metadata": {
        "id": "A4T8xB4sC7PO"
      },
      "source": [
        "# Prediction\n",
        "y_true, y_pred = y_test, clf_dt.predict(X_test)\n",
        "print(classification_report(y_true, y_pred))"
      ],
      "execution_count": null,
      "outputs": []
    },
    {
      "cell_type": "code",
      "metadata": {
        "id": "9UdZ2yOIC8u9"
      },
      "source": [
        "# Confusion matrix \n",
        "print(\"Accuracy on test data: {:.2f}\".format(clf_dt.score(X_test, y_test)))\n",
        "print(\"Accuracy on training data: {:.2f}\".format(clf_dt.score(X_train, y_train)))\n",
        "matrix = plot_confusion_matrix(clf_dt, train_set, train_target, display_labels=['No Lung Issues',\"Lung Issues\"], cmap=plt.cm.Reds)\n",
        "matrix.ax_.set_title('Confusion Matrix')\n",
        "plt.show()"
      ],
      "execution_count": null,
      "outputs": []
    },
    {
      "cell_type": "markdown",
      "metadata": {
        "id": "lxCz_C1cER62"
      },
      "source": [
        "#### Random Forest"
      ]
    },
    {
      "cell_type": "code",
      "metadata": {
        "id": "XQZnqwpcEM2p"
      },
      "source": [
        "# Parameters for hyperparameter tuning using GridSearchCV - Check what parameters give the best results\n",
        "parameters_rf = {'bootstrap':[True, False], 'max_depth':[5, 10, 15, 20], 'n_estimators':[100, 150, 200]}"
      ],
      "execution_count": null,
      "outputs": []
    },
    {
      "cell_type": "code",
      "metadata": {
        "id": "rh-E7CIVEZ-u"
      },
      "source": [
        "# Model training - Adjust Hyperparameters\n",
        "model_rf = RandomForestClassifier(class_weight=\"balanced\")\n",
        "clf_rf = GridSearchCV(model_rf, parameters_rf, scoring='recall')\n",
        "clf_rf.fit(X_train, y_train)"
      ],
      "execution_count": null,
      "outputs": []
    },
    {
      "cell_type": "code",
      "metadata": {
        "id": "eQj7lmD2EpWc"
      },
      "source": [
        "clf_rf.best_estimator_"
      ],
      "execution_count": null,
      "outputs": []
    },
    {
      "cell_type": "code",
      "metadata": {
        "id": "JM5NxJ05FySh"
      },
      "source": [
        "# Prediction\n",
        "y_true, y_pred = y_test, clf_rf.predict(X_test)\n",
        "print(classification_report(y_true, y_pred))"
      ],
      "execution_count": null,
      "outputs": []
    },
    {
      "cell_type": "code",
      "metadata": {
        "id": "vIeKclvDF05c"
      },
      "source": [
        "# Confusion matrix \n",
        "print(\"Accuracy on test data: {:.2f}\".format(clf_rf.score(X_test, y_test)))\n",
        "print(\"Accuracy on training data: {:.2f}\".format(clf_rf.score(X_train, y_train)))\n",
        "matrix = plot_confusion_matrix(clf_rf, train_set, train_target, display_labels=['No Lung Issues','Lung Issues'], cmap=plt.cm.Reds)\n",
        "matrix.ax_.set_title('Confusion Matrix')\n",
        "plt.show()"
      ],
      "execution_count": null,
      "outputs": []
    },
    {
      "cell_type": "markdown",
      "metadata": {
        "id": "OuE-CufvGWoG"
      },
      "source": [
        "#### Naive Bayes"
      ]
    },
    {
      "cell_type": "code",
      "metadata": {
        "id": "2mJ60Gj5GFOw"
      },
      "source": [
        "# This algorithm does not have a hyperparameter for class balancing, so these results are skewed\n",
        "\n",
        "# Model training \n",
        "model_nb = GaussianNB()\n",
        "model_nb.fit(X_train, y_train)"
      ],
      "execution_count": null,
      "outputs": []
    },
    {
      "cell_type": "code",
      "metadata": {
        "id": "OIXK_o3iHA8b"
      },
      "source": [
        "y_true, y_pred = y_test, model_nb.predict(X_test)\n",
        "print(classification_report(y_true, y_pred))"
      ],
      "execution_count": null,
      "outputs": []
    },
    {
      "cell_type": "code",
      "metadata": {
        "id": "v0Dz7TDJHFN0"
      },
      "source": [
        "# Confusion matrix \n",
        "print(\"Accuracy on test data: {:.2f}\".format(model_nb.score(X_test, y_test)))\n",
        "print(\"Accuracy on training data: {:.2f}\".format(model_nb.score(X_train, y_train)))\n",
        "matrix = plot_confusion_matrix(model_nb, train_set, train_target, display_labels=['No Lung Issues','Lung Issues'], cmap=plt.cm.Reds)\n",
        "matrix.ax_.set_title('Confusion Matrix')\n",
        "plt.show()"
      ],
      "execution_count": null,
      "outputs": []
    },
    {
      "cell_type": "markdown",
      "metadata": {
        "id": "0wXzIEiMHS4U"
      },
      "source": [
        "#### XGBoost"
      ]
    },
    {
      "cell_type": "code",
      "metadata": {
        "id": "--3D1jkbH3yg"
      },
      "source": [
        "# Parameters for hyperparameter tuning using GridSearchCV - Check what parameters give the best results\n",
        "parameters_xgb = {'n_estimators':[150, 200, 250, 300], 'max_depth':[5, 6, 7, 8], 'learning_rate':[0.01, 0.02, 0.03]}"
      ],
      "execution_count": null,
      "outputs": []
    },
    {
      "cell_type": "code",
      "metadata": {
        "id": "VE-ReBCkH5kf"
      },
      "source": [
        "# Model training - Adjust Hyperparameters\n",
        "model_xgb = XGBClassifier(use_label_encoder=False, scale_pos_weight=33)\n",
        "clf_xgb = GridSearchCV(model_xgb, parameters_xgb, scoring='recall')\n",
        "clf_xgb.fit(X_train, y_train)"
      ],
      "execution_count": null,
      "outputs": []
    },
    {
      "cell_type": "code",
      "metadata": {
        "id": "r6XfMM_DIBDZ"
      },
      "source": [
        "clf_xgb.best_estimator_"
      ],
      "execution_count": null,
      "outputs": []
    },
    {
      "cell_type": "code",
      "metadata": {
        "id": "xxk5fhU2IC6q"
      },
      "source": [
        "# Prediction\n",
        "y_true, y_pred = y_test, clf_xgb.predict(X_test)\n",
        "print(classification_report(y_true, y_pred))"
      ],
      "execution_count": null,
      "outputs": []
    },
    {
      "cell_type": "code",
      "metadata": {
        "id": "RmgmN29CIg7V"
      },
      "source": [
        "# Confusion matrix \n",
        "print(\"Accuracy on test data: {:.2f}\".format(clf_xgb.score(X_test, y_test)))\n",
        "print(\"Accuracy on training data: {:.2f}\".format(clf_xgb.score(X_train, y_train)))\n",
        "matrix = plot_confusion_matrix(clf_xgb, train_set, train_target, display_labels=['No Lung Issues','Lung Issues'], cmap=plt.cm.Reds)\n",
        "matrix.ax_.set_title('Confusion Matrix')\n",
        "plt.show()"
      ],
      "execution_count": null,
      "outputs": []
    }
  ]
}